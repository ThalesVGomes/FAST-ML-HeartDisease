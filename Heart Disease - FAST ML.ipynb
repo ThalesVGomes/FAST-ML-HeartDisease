{
 "cells": [
  {
   "cell_type": "markdown",
   "metadata": {},
   "source": [
    "### About this dataset\n",
    "Age : Age of the patient\n",
    "\n",
    "Sex : Sex of the patient\n",
    "\n",
    "exang: exercise induced angina (1 = yes; 0 = no)\n",
    "\n",
    "ca: number of major vessels (0-3)\n",
    "\n",
    "cp : Chest Pain type chest pain type\n",
    "\n",
    "Value 1: typical angina\n",
    "Value 2: atypical angina\n",
    "Value 3: non-anginal pain\n",
    "Value 4: asymptomatic\n",
    "trtbps : resting blood pressure (in mm Hg)\n",
    "\n",
    "chol : cholestoral in mg/dl fetched via BMI sensor\n",
    "\n",
    "fbs : (fasting blood sugar > 120 mg/dl) (1 = true; 0 = false)\n",
    "\n",
    "rest_ecg : resting electrocardiographic results\n",
    "\n",
    "Value 0: normal\n",
    "Value 1: having ST-T wave abnormality (T wave inversions and/or ST elevation or depression of > 0.05 mV)\n",
    "Value 2: showing probable or definite left ventricular hypertrophy by Estes' criteria\n",
    "thalach : maximum heart rate achieved\n",
    "\n",
    "target : 0= less chance of heart attack 1= more chance of heart attack"
   ]
  },
  {
   "cell_type": "markdown",
   "metadata": {},
   "source": [
    "#### Data base available at https://www.kaggle.com/datasets/rashikrahmanpritom/heart-attack-analysis-prediction-dataset"
   ]
  },
  {
   "cell_type": "markdown",
   "metadata": {},
   "source": [
    "## Fast problem solving - our objective is to build a good predictive model as fast as possible without losing too much time with EDA or Feature Engineering\n",
    "### Since our database is really small (shape=(302,14))  we can brute-force a model that will fit well in the data"
   ]
  },
  {
   "cell_type": "code",
   "execution_count": 1,
   "metadata": {
    "colab": {
     "base_uri": "https://localhost:8080/"
    },
    "id": "sDbBHBfoRxen",
    "outputId": "7b67f136-8fc8-4408-a5a2-fbd54b9d07df"
   },
   "outputs": [],
   "source": [
    "import warnings\n",
    "warnings.filterwarnings(\"ignore\") # ignore convergence warnings\n",
    "\n",
    "# Standard Libraries\n",
    "import pandas as pd\n",
    "import numpy as np\n",
    "import matplotlib.pyplot as plt\n",
    "import seaborn as sns\n",
    "\n",
    "# Preprocessing\n",
    "from sklearn.preprocessing import MinMaxScaler, StandardScaler, RobustScaler, OneHotEncoder\n",
    "from sklearn.compose import ColumnTransformer\n",
    "from imblearn.over_sampling import SMOTE\n",
    "from imblearn.pipeline import Pipeline as imbpipeline\n",
    "from sklearn.decomposition import PCA\n",
    "from sklearn.impute import SimpleImputer\n",
    "from sklearn.pipeline import Pipeline\n",
    "\n",
    "# Metrics and model selection\n",
    "from sklearn.metrics import confusion_matrix, classification_report\n",
    "from sklearn.metrics import accuracy_score, recall_score, precision_score, f1_score\n",
    "from sklearn.model_selection import GridSearchCV, train_test_split\n",
    "\n",
    "# ML Algorithms\n",
    "from sklearn.linear_model import LogisticRegression\n",
    "from sklearn.naive_bayes import GaussianNB\n",
    "from sklearn.ensemble import RandomForestClassifier\n",
    "from sklearn.svm import SVC\n",
    "from sklearn.neighbors import KNeighborsClassifier\n",
    "\n",
    "\n",
    "sns.set_style('white')\n",
    "%matplotlib inline"
   ]
  },
  {
   "cell_type": "markdown",
   "metadata": {},
   "source": [
    "# Reading the data"
   ]
  },
  {
   "cell_type": "code",
   "execution_count": 2,
   "metadata": {},
   "outputs": [
    {
     "data": {
      "text/html": [
       "<div>\n",
       "<style scoped>\n",
       "    .dataframe tbody tr th:only-of-type {\n",
       "        vertical-align: middle;\n",
       "    }\n",
       "\n",
       "    .dataframe tbody tr th {\n",
       "        vertical-align: top;\n",
       "    }\n",
       "\n",
       "    .dataframe thead th {\n",
       "        text-align: right;\n",
       "    }\n",
       "</style>\n",
       "<table border=\"1\" class=\"dataframe\">\n",
       "  <thead>\n",
       "    <tr style=\"text-align: right;\">\n",
       "      <th></th>\n",
       "      <th>age</th>\n",
       "      <th>sex</th>\n",
       "      <th>cp</th>\n",
       "      <th>trtbps</th>\n",
       "      <th>chol</th>\n",
       "      <th>fbs</th>\n",
       "      <th>restecg</th>\n",
       "      <th>thalachh</th>\n",
       "      <th>exng</th>\n",
       "      <th>oldpeak</th>\n",
       "      <th>slp</th>\n",
       "      <th>caa</th>\n",
       "      <th>thall</th>\n",
       "      <th>output</th>\n",
       "    </tr>\n",
       "  </thead>\n",
       "  <tbody>\n",
       "    <tr>\n",
       "      <th>0</th>\n",
       "      <td>63</td>\n",
       "      <td>1</td>\n",
       "      <td>3</td>\n",
       "      <td>145</td>\n",
       "      <td>233</td>\n",
       "      <td>1</td>\n",
       "      <td>0</td>\n",
       "      <td>150</td>\n",
       "      <td>0</td>\n",
       "      <td>2.3</td>\n",
       "      <td>0</td>\n",
       "      <td>0</td>\n",
       "      <td>1</td>\n",
       "      <td>1</td>\n",
       "    </tr>\n",
       "    <tr>\n",
       "      <th>1</th>\n",
       "      <td>37</td>\n",
       "      <td>1</td>\n",
       "      <td>2</td>\n",
       "      <td>130</td>\n",
       "      <td>250</td>\n",
       "      <td>0</td>\n",
       "      <td>1</td>\n",
       "      <td>187</td>\n",
       "      <td>0</td>\n",
       "      <td>3.5</td>\n",
       "      <td>0</td>\n",
       "      <td>0</td>\n",
       "      <td>2</td>\n",
       "      <td>1</td>\n",
       "    </tr>\n",
       "    <tr>\n",
       "      <th>2</th>\n",
       "      <td>41</td>\n",
       "      <td>0</td>\n",
       "      <td>1</td>\n",
       "      <td>130</td>\n",
       "      <td>204</td>\n",
       "      <td>0</td>\n",
       "      <td>0</td>\n",
       "      <td>172</td>\n",
       "      <td>0</td>\n",
       "      <td>1.4</td>\n",
       "      <td>2</td>\n",
       "      <td>0</td>\n",
       "      <td>2</td>\n",
       "      <td>1</td>\n",
       "    </tr>\n",
       "    <tr>\n",
       "      <th>3</th>\n",
       "      <td>56</td>\n",
       "      <td>1</td>\n",
       "      <td>1</td>\n",
       "      <td>120</td>\n",
       "      <td>236</td>\n",
       "      <td>0</td>\n",
       "      <td>1</td>\n",
       "      <td>178</td>\n",
       "      <td>0</td>\n",
       "      <td>0.8</td>\n",
       "      <td>2</td>\n",
       "      <td>0</td>\n",
       "      <td>2</td>\n",
       "      <td>1</td>\n",
       "    </tr>\n",
       "    <tr>\n",
       "      <th>4</th>\n",
       "      <td>57</td>\n",
       "      <td>0</td>\n",
       "      <td>0</td>\n",
       "      <td>120</td>\n",
       "      <td>354</td>\n",
       "      <td>0</td>\n",
       "      <td>1</td>\n",
       "      <td>163</td>\n",
       "      <td>1</td>\n",
       "      <td>0.6</td>\n",
       "      <td>2</td>\n",
       "      <td>0</td>\n",
       "      <td>2</td>\n",
       "      <td>1</td>\n",
       "    </tr>\n",
       "  </tbody>\n",
       "</table>\n",
       "</div>"
      ],
      "text/plain": [
       "   age  sex  cp  trtbps  chol  fbs  restecg  thalachh  exng  oldpeak  slp  \\\n",
       "0   63    1   3     145   233    1        0       150     0      2.3    0   \n",
       "1   37    1   2     130   250    0        1       187     0      3.5    0   \n",
       "2   41    0   1     130   204    0        0       172     0      1.4    2   \n",
       "3   56    1   1     120   236    0        1       178     0      0.8    2   \n",
       "4   57    0   0     120   354    0        1       163     1      0.6    2   \n",
       "\n",
       "   caa  thall  output  \n",
       "0    0      1       1  \n",
       "1    0      2       1  \n",
       "2    0      2       1  \n",
       "3    0      2       1  \n",
       "4    0      2       1  "
      ]
     },
     "execution_count": 2,
     "metadata": {},
     "output_type": "execute_result"
    }
   ],
   "source": [
    "df = pd.read_csv(\"heart.csv\").drop_duplicates()\n",
    "df.head()"
   ]
  },
  {
   "cell_type": "markdown",
   "metadata": {},
   "source": [
    "# There is no NaN values and all categories are already in number format"
   ]
  },
  {
   "cell_type": "code",
   "execution_count": 3,
   "metadata": {},
   "outputs": [
    {
     "name": "stdout",
     "output_type": "stream",
     "text": [
      "<class 'pandas.core.frame.DataFrame'>\n",
      "Int64Index: 302 entries, 0 to 302\n",
      "Data columns (total 14 columns):\n",
      " #   Column    Non-Null Count  Dtype  \n",
      "---  ------    --------------  -----  \n",
      " 0   age       302 non-null    int64  \n",
      " 1   sex       302 non-null    int64  \n",
      " 2   cp        302 non-null    int64  \n",
      " 3   trtbps    302 non-null    int64  \n",
      " 4   chol      302 non-null    int64  \n",
      " 5   fbs       302 non-null    int64  \n",
      " 6   restecg   302 non-null    int64  \n",
      " 7   thalachh  302 non-null    int64  \n",
      " 8   exng      302 non-null    int64  \n",
      " 9   oldpeak   302 non-null    float64\n",
      " 10  slp       302 non-null    int64  \n",
      " 11  caa       302 non-null    int64  \n",
      " 12  thall     302 non-null    int64  \n",
      " 13  output    302 non-null    int64  \n",
      "dtypes: float64(1), int64(13)\n",
      "memory usage: 35.4 KB\n"
     ]
    }
   ],
   "source": [
    "df.info()"
   ]
  },
  {
   "cell_type": "markdown",
   "metadata": {},
   "source": [
    "# Let's split columns between categorical and numerical values"
   ]
  },
  {
   "cell_type": "code",
   "execution_count": 4,
   "metadata": {
    "id": "xRabHejUie07"
   },
   "outputs": [],
   "source": [
    "num_features = ['age', 'trtbps', 'chol', 'thalachh', 'oldpeak']\n",
    "cat_features = df.drop(num_features, axis=1).columns.tolist()\n",
    "for c in cat_features:\n",
    "    df[c] = df[c].astype('category')"
   ]
  },
  {
   "cell_type": "markdown",
   "metadata": {},
   "source": [
    "# Fast EDA"
   ]
  },
  {
   "cell_type": "markdown",
   "metadata": {},
   "source": [
    "### Dataset is balanced"
   ]
  },
  {
   "cell_type": "code",
   "execution_count": 5,
   "metadata": {},
   "outputs": [
    {
     "data": {
      "image/png": "[encoded data removed]",
      "text/plain": [
       "<Figure size 432x288 with 1 Axes>"
      ]
     },
     "metadata": {},
     "output_type": "display_data"
    }
   ],
   "source": [
    "plt.pie(\n",
    "    df[\"output\"].value_counts(normalize=True),\n",
    "    labels=['Risk of disease', 'No risk of disease'],\n",
    "    colors= sns.color_palette('pastel')[:2],\n",
    "    autopct='%.0f%%'\n",
    "    )\n",
    "plt.show()"
   ]
  },
  {
   "cell_type": "markdown",
   "metadata": {},
   "source": [
    "### Variables Distributions"
   ]
  },
  {
   "cell_type": "code",
   "execution_count": 6,
   "metadata": {},
   "outputs": [
    {
     "data": {
      "image/png": "[encoded data removed]",
      "text/plain": [
       "<Figure size 576x432 with 1 Axes>"
      ]
     },
     "metadata": {
      "needs_background": "light"
     },
     "output_type": "display_data"
    }
   ],
   "source": [
    "plt.figure(figsize=(8,6))\n",
    "sns.violinplot(data=df, scale='count')\n",
    "plt.show()"
   ]
  },
  {
   "cell_type": "code",
   "execution_count": 7,
   "metadata": {},
   "outputs": [
    {
     "data": {
      "image/png": "[encoded data removed]",
      "text/plain": [
       "<Figure size 576x432 with 2 Axes>"
      ]
     },
     "metadata": {
      "needs_background": "light"
     },
     "output_type": "display_data"
    }
   ],
   "source": [
    "plt.figure(figsize=(8, 6))\n",
    "sns.heatmap(df.corr(),\n",
    "            annot=True,\n",
    "            cmap='Reds')\n",
    "plt.show()"
   ]
  },
  {
   "cell_type": "markdown",
   "metadata": {},
   "source": [
    "# Splitting the data"
   ]
  },
  {
   "cell_type": "code",
   "execution_count": 8,
   "metadata": {
    "id": "lREEgUwTmYFJ"
   },
   "outputs": [],
   "source": [
    "X = df.drop([\"output\"], axis=1)\n",
    "y = df[\"output\"]\n",
    "\n",
    "X_train, X_test, y_train, y_test = train_test_split(X, y,\n",
    "                                                    test_size=0.2,\n",
    "                                                    random_state=42)"
   ]
  },
  {
   "cell_type": "markdown",
   "metadata": {},
   "source": [
    "# Creating helpful functions"
   ]
  },
  {
   "cell_type": "code",
   "execution_count": 9,
   "metadata": {},
   "outputs": [],
   "source": [
    "def create_model(algorithm, param_grid={}, metric='accuracy',\n",
    "                 X_train=X_train, y_train=y_train, cv=5):\n",
    "    \n",
    "    global num_features, cat_features\n",
    "    \n",
    "    num_features_model = [i for i in num_features if i in X_train.columns]\n",
    "    cat_features_model = [i for i in cat_features if i in X_train.columns]\n",
    "    \n",
    "    name = 'algorithm'\n",
    "    if param_grid:\n",
    "        param_grid = {name + '__' + k : v for k,v in param_grid.items() if name + '__' not in k}\n",
    "    \n",
    "    # Preprocess Numerical columns\n",
    "    numerical_transformer = Pipeline(steps=[\n",
    "        ('imputer', SimpleImputer(strategy='mean')),\n",
    "        ('scaler', StandardScaler()),\n",
    "        ])\n",
    "\n",
    "    # Preprocess Categorical columns\n",
    "    categorical_transformer = Pipeline(steps=[\n",
    "        ('imputer', SimpleImputer(strategy='most_frequent')),\n",
    "        ('onehot', OneHotEncoder(handle_unknown='ignore', sparse=True)),\n",
    "        ])\n",
    "\n",
    "    column_transformer = ColumnTransformer(\n",
    "        transformers=[\n",
    "            ('numerical', numerical_transformer, num_features_model),\n",
    "            ('categorical', categorical_transformer, cat_features_model),\n",
    "        ])\n",
    "\n",
    "    model = imbpipeline(steps=[('column_transformer', column_transformer),\n",
    "                               (name, algorithm),\n",
    "                              ])\n",
    "    \n",
    "    \n",
    "    grid_search = GridSearchCV(model,\n",
    "                               param_grid=param_grid,\n",
    "                               scoring=metric,\n",
    "                               n_jobs=-1,\n",
    "                               cv=cv)\n",
    "    \n",
    "    grid_search.fit(X_train, y_train)\n",
    "                            \n",
    "    return grid_search"
   ]
  },
  {
   "cell_type": "code",
   "execution_count": 10,
   "metadata": {},
   "outputs": [],
   "source": [
    "def plot_confusion_matrix(matrix):\n",
    "    \"\"\"Plots a complete confusion matrix for binary classification problems\"\"\"\n",
    "    \n",
    "    # Confusion matrix for binary data\n",
    "    tags = ['True Neg','False Pos','False Neg','True Pos']\n",
    "    labels = [f'{tag}\\n{value}\\n{np.round(value/np.sum(matrix.ravel()) * 100, 2)}%'\n",
    "              for tag, value in zip(tags, matrix.ravel())]\n",
    "    labels = np.asarray(labels).reshape(2,2)\n",
    "    sns.heatmap(matrix, annot=labels, cmap='Blues', fmt='')\n",
    "    plt.xlabel('Predicted', fontsize=10)\n",
    "    plt.ylabel('Original', fontsize=10)\n",
    "\n",
    "    plt.show()"
   ]
  },
  {
   "cell_type": "code",
   "execution_count": 11,
   "metadata": {},
   "outputs": [],
   "source": [
    "def evaluate_model(model, conf_matrix=True, X_test=X_test, y_test=y_test):\n",
    "    \"\"\"Receives a trained model and evaluate its performance on test data\"\"\"\n",
    "    \n",
    "    y_pred = model.predict(X_test)\n",
    "    display(pd.DataFrame(classification_report(y_test, y_pred, output_dict=True)))\n",
    "    if conf_matrix:\n",
    "        plot_confusion_matrix(confusion_matrix(y_test, y_pred))\n",
    "    try:\n",
    "        print(f'Best Params: {model.best_params_}')\n",
    "    except:\n",
    "        pass"
   ]
  },
  {
   "cell_type": "markdown",
   "metadata": {},
   "source": [
    "### One of the most important parts when we create a machine learning model is to define the <u>metric</u> that we want to optimize.\n",
    "#### Since our problem is about health our classes don't have the same importance (It is not as harmful to predict that someone is at risk when they are not, compared to predicting that someone is not at risk when in fact they are) so we <span style=\"color:#f55a42\">shouldn't use accuracy as a metric to evaluate performance</span><br>\n",
    "### We need a metric that reduces the false negative so let's go with <span style=\"color:#1e1ee6\">F1</span>"
   ]
  },
  {
   "cell_type": "markdown",
   "metadata": {},
   "source": [
    "### Creating a Dummy Classifier that only predicts the most frequent class to have a base line to our models performance"
   ]
  },
  {
   "cell_type": "code",
   "execution_count": 12,
   "metadata": {},
   "outputs": [
    {
     "data": {
      "text/plain": [
       "0.6881720430107526"
      ]
     },
     "execution_count": 12,
     "metadata": {},
     "output_type": "execute_result"
    }
   ],
   "source": [
    "y_pred_dummy = np.ones(shape=(y_test.shape))\n",
    "f1_score(y_test, y_pred_dummy)"
   ]
  },
  {
   "cell_type": "markdown",
   "metadata": {},
   "source": [
    "# Automating the algorithms tests"
   ]
  },
  {
   "cell_type": "code",
   "execution_count": 13,
   "metadata": {},
   "outputs": [
    {
     "data": {
      "text/html": [
       "<div>\n",
       "<style scoped>\n",
       "    .dataframe tbody tr th:only-of-type {\n",
       "        vertical-align: middle;\n",
       "    }\n",
       "\n",
       "    .dataframe tbody tr th {\n",
       "        vertical-align: top;\n",
       "    }\n",
       "\n",
       "    .dataframe thead th {\n",
       "        text-align: right;\n",
       "    }\n",
       "</style>\n",
       "<table border=\"1\" class=\"dataframe\">\n",
       "  <thead>\n",
       "    <tr style=\"text-align: right;\">\n",
       "      <th></th>\n",
       "      <th>f1</th>\n",
       "    </tr>\n",
       "  </thead>\n",
       "  <tbody>\n",
       "    <tr>\n",
       "      <th>SVC</th>\n",
       "      <td>0.918033</td>\n",
       "    </tr>\n",
       "    <tr>\n",
       "      <th>KNeighborsClassifier</th>\n",
       "      <td>0.918033</td>\n",
       "    </tr>\n",
       "    <tr>\n",
       "      <th>LogisticRegression</th>\n",
       "      <td>0.888889</td>\n",
       "    </tr>\n",
       "    <tr>\n",
       "      <th>RandomForestClassifier</th>\n",
       "      <td>0.838710</td>\n",
       "    </tr>\n",
       "    <tr>\n",
       "      <th>GaussianNB</th>\n",
       "      <td>0.680000</td>\n",
       "    </tr>\n",
       "  </tbody>\n",
       "</table>\n",
       "</div>"
      ],
      "text/plain": [
       "                              f1\n",
       "SVC                     0.918033\n",
       "KNeighborsClassifier    0.918033\n",
       "LogisticRegression      0.888889\n",
       "RandomForestClassifier  0.838710\n",
       "GaussianNB              0.680000"
      ]
     },
     "execution_count": 13,
     "metadata": {},
     "output_type": "execute_result"
    }
   ],
   "source": [
    "def classification_fast_tests(metric='accuracy'):\n",
    "    \n",
    "    \"\"\"The purpose of this function is to perform\n",
    "    a fast test using the most commom classifiers.\n",
    "    Some of them are heavily dependent on\n",
    "    hyperparameters - so we will give them some\n",
    "    After that we can pick only the top algorithms\n",
    "    and make an larger hyperparameter search.\"\"\"\n",
    "    \n",
    "    metrics = {'accuracy':'accuracy_score',\n",
    "               'recall':'recall_score',\n",
    "               'precision':'precision_score',\n",
    "               'f1':'f1_score'}\n",
    "    \n",
    "    algorithms = ['LogisticRegression', 'GaussianNB', 'RandomForestClassifier',\n",
    "                  'SVC', 'KNeighborsClassifier']\n",
    "    \n",
    "    \n",
    "    LogisticRegression_params = {'C':[i for i in np.logspace(-1, 1, 3)]}\n",
    "    GaussianNB_params = {}\n",
    "    RandomForestClassifier_params = {}\n",
    "    SVC_params = {'C':[i for i in np.logspace(-1, 1, 3)],\n",
    "                  'gamma':[i for i in np.logspace(-1, 1, 3)]}\n",
    "    KNeighborsClassifier_params = {'n_neighbors':[i*2 for i in range(10)]}\n",
    "    \n",
    "    parameters = [LogisticRegression_params, GaussianNB_params, RandomForestClassifier_params,\n",
    "                 SVC_params, KNeighborsClassifier_params]\n",
    "    \n",
    "    results = {}\n",
    "    for params, algorithm in zip(parameters, algorithms):\n",
    "        model = create_model(algorithm=eval(algorithm)(),\n",
    "                             param_grid=params,\n",
    "                             metric=metric,\n",
    "                             cv=3,\n",
    "                            )\n",
    "        \n",
    "        y_pred = model.predict(X_test)\n",
    "        \n",
    "        \n",
    "        performance = eval(metrics[metric])(y_test, y_pred)\n",
    "        results[algorithm] = performance\n",
    "        \n",
    "    results = (pd.DataFrame.from_dict(\n",
    "                                     results, orient='index', columns=[metric])\n",
    "               .sort_values(by=metric, ascending=False))\n",
    "    \n",
    "    return results\n",
    "classification_fast_tests(metric='f1')"
   ]
  },
  {
   "cell_type": "markdown",
   "metadata": {},
   "source": [
    "# It's pretty safe to choose SVC and KNeighbors to hypertune - both had a good cross-validation performance - so let's try them with our test data"
   ]
  },
  {
   "cell_type": "code",
   "execution_count": 14,
   "metadata": {},
   "outputs": [
    {
     "data": {
      "text/html": [
       "<div>\n",
       "<style scoped>\n",
       "    .dataframe tbody tr th:only-of-type {\n",
       "        vertical-align: middle;\n",
       "    }\n",
       "\n",
       "    .dataframe tbody tr th {\n",
       "        vertical-align: top;\n",
       "    }\n",
       "\n",
       "    .dataframe thead th {\n",
       "        text-align: right;\n",
       "    }\n",
       "</style>\n",
       "<table border=\"1\" class=\"dataframe\">\n",
       "  <thead>\n",
       "    <tr style=\"text-align: right;\">\n",
       "      <th></th>\n",
       "      <th>0</th>\n",
       "      <th>1</th>\n",
       "      <th>accuracy</th>\n",
       "      <th>macro avg</th>\n",
       "      <th>weighted avg</th>\n",
       "    </tr>\n",
       "  </thead>\n",
       "  <tbody>\n",
       "    <tr>\n",
       "      <th>precision</th>\n",
       "      <td>0.843750</td>\n",
       "      <td>0.931034</td>\n",
       "      <td>0.885246</td>\n",
       "      <td>0.887392</td>\n",
       "      <td>0.889539</td>\n",
       "    </tr>\n",
       "    <tr>\n",
       "      <th>recall</th>\n",
       "      <td>0.931034</td>\n",
       "      <td>0.843750</td>\n",
       "      <td>0.885246</td>\n",
       "      <td>0.887392</td>\n",
       "      <td>0.885246</td>\n",
       "    </tr>\n",
       "    <tr>\n",
       "      <th>f1-score</th>\n",
       "      <td>0.885246</td>\n",
       "      <td>0.885246</td>\n",
       "      <td>0.885246</td>\n",
       "      <td>0.885246</td>\n",
       "      <td>0.885246</td>\n",
       "    </tr>\n",
       "    <tr>\n",
       "      <th>support</th>\n",
       "      <td>29.000000</td>\n",
       "      <td>32.000000</td>\n",
       "      <td>0.885246</td>\n",
       "      <td>61.000000</td>\n",
       "      <td>61.000000</td>\n",
       "    </tr>\n",
       "  </tbody>\n",
       "</table>\n",
       "</div>"
      ],
      "text/plain": [
       "                   0          1  accuracy  macro avg  weighted avg\n",
       "precision   0.843750   0.931034  0.885246   0.887392      0.889539\n",
       "recall      0.931034   0.843750  0.885246   0.887392      0.885246\n",
       "f1-score    0.885246   0.885246  0.885246   0.885246      0.885246\n",
       "support    29.000000  32.000000  0.885246  61.000000     61.000000"
      ]
     },
     "metadata": {},
     "output_type": "display_data"
    },
    {
     "data": {
      "image/png": "[encoded data removed]",
      "text/plain": [
       "<Figure size 432x288 with 2 Axes>"
      ]
     },
     "metadata": {
      "needs_background": "light"
     },
     "output_type": "display_data"
    },
    {
     "name": "stdout",
     "output_type": "stream",
     "text": [
      "Best Params: {'algorithm__n_neighbors': 24, 'algorithm__weights': 'distance'}\n"
     ]
    }
   ],
   "source": [
    "param_grid ={'n_neighbors':[i*2 for i in range(1,50)],\n",
    "                                'weights':['uniform', 'distance'],}\n",
    "\n",
    "# fitting on our dataset\n",
    "knn = create_model(algorithm=KNeighborsClassifier(n_jobs=-1),\n",
    "                    param_grid=param_grid,\n",
    "                    metric='f1'\n",
    "                    )\n",
    "\n",
    "evaluate_model(knn)"
   ]
  },
  {
   "cell_type": "code",
   "execution_count": 15,
   "metadata": {},
   "outputs": [
    {
     "data": {
      "text/html": [
       "<div>\n",
       "<style scoped>\n",
       "    .dataframe tbody tr th:only-of-type {\n",
       "        vertical-align: middle;\n",
       "    }\n",
       "\n",
       "    .dataframe tbody tr th {\n",
       "        vertical-align: top;\n",
       "    }\n",
       "\n",
       "    .dataframe thead th {\n",
       "        text-align: right;\n",
       "    }\n",
       "</style>\n",
       "<table border=\"1\" class=\"dataframe\">\n",
       "  <thead>\n",
       "    <tr style=\"text-align: right;\">\n",
       "      <th></th>\n",
       "      <th>0</th>\n",
       "      <th>1</th>\n",
       "      <th>accuracy</th>\n",
       "      <th>macro avg</th>\n",
       "      <th>weighted avg</th>\n",
       "    </tr>\n",
       "  </thead>\n",
       "  <tbody>\n",
       "    <tr>\n",
       "      <th>precision</th>\n",
       "      <td>0.875000</td>\n",
       "      <td>0.965517</td>\n",
       "      <td>0.918033</td>\n",
       "      <td>0.920259</td>\n",
       "      <td>0.922484</td>\n",
       "    </tr>\n",
       "    <tr>\n",
       "      <th>recall</th>\n",
       "      <td>0.965517</td>\n",
       "      <td>0.875000</td>\n",
       "      <td>0.918033</td>\n",
       "      <td>0.920259</td>\n",
       "      <td>0.918033</td>\n",
       "    </tr>\n",
       "    <tr>\n",
       "      <th>f1-score</th>\n",
       "      <td>0.918033</td>\n",
       "      <td>0.918033</td>\n",
       "      <td>0.918033</td>\n",
       "      <td>0.918033</td>\n",
       "      <td>0.918033</td>\n",
       "    </tr>\n",
       "    <tr>\n",
       "      <th>support</th>\n",
       "      <td>29.000000</td>\n",
       "      <td>32.000000</td>\n",
       "      <td>0.918033</td>\n",
       "      <td>61.000000</td>\n",
       "      <td>61.000000</td>\n",
       "    </tr>\n",
       "  </tbody>\n",
       "</table>\n",
       "</div>"
      ],
      "text/plain": [
       "                   0          1  accuracy  macro avg  weighted avg\n",
       "precision   0.875000   0.965517  0.918033   0.920259      0.922484\n",
       "recall      0.965517   0.875000  0.918033   0.920259      0.918033\n",
       "f1-score    0.918033   0.918033  0.918033   0.918033      0.918033\n",
       "support    29.000000  32.000000  0.918033  61.000000     61.000000"
      ]
     },
     "metadata": {},
     "output_type": "display_data"
    },
    {
     "data": {
      "image/png": "[encoded data removed]",
      "text/plain": [
       "<Figure size 432x288 with 2 Axes>"
      ]
     },
     "metadata": {
      "needs_background": "light"
     },
     "output_type": "display_data"
    },
    {
     "name": "stdout",
     "output_type": "stream",
     "text": [
      "Best Params: {'algorithm__C': 1.0, 'algorithm__gamma': 0.1}\n"
     ]
    }
   ],
   "source": [
    "param_grid = {'C':[i for i in np.logspace(-6, 0, 7)],\n",
    "              'gamma':[i for i in np.logspace(-6, 0, 7)],\n",
    "             }\n",
    "\n",
    "svm = create_model(algorithm=SVC(probability=True),\n",
    "                    param_grid=param_grid,\n",
    "                    metric='f1'\n",
    "                    )\n",
    "\n",
    "evaluate_model(svm)"
   ]
  },
  {
   "cell_type": "markdown",
   "metadata": {},
   "source": [
    "# We lost some performance using KNN but we could achieve the same performance with SVC on the test data"
   ]
  },
  {
   "cell_type": "markdown",
   "metadata": {},
   "source": [
    "# Finally we'll analyse the decision function threshold to choose the best value to improve our metric"
   ]
  },
  {
   "cell_type": "code",
   "execution_count": 16,
   "metadata": {},
   "outputs": [],
   "source": [
    "def plot_thresholds(model, title, X_test=X_test, y_test=y_test):\n",
    "    \n",
    "    plt.figure(figsize=(8,6))\n",
    "    metrics = ['accuracy_score', 'recall_score', 'precision_score', 'f1_score']\n",
    "    results = {metric:{} for metric in metrics}\n",
    "\n",
    "    for thresh in np.arange(0, 101)/100:\n",
    "        proba = model.predict_proba(X_test)\n",
    "        proba = np.where(proba[:,0]>thresh, 0, 1)\n",
    "\n",
    "        for metric in metrics:\n",
    "            results[metric][thresh] = (eval(metric)(y_test, proba))\n",
    "\n",
    "    for metric in results:\n",
    "        plt.plot(results[metric].keys(), results[metric].values(), label=metric)\n",
    "    \n",
    "    plt.ylim((0,1.1))\n",
    "    plt.xlim((0,1))\n",
    "    plt.xticks(np.arange(0, 100, 10)/100)\n",
    "    plt.legend(loc='best')\n",
    "    plt.title(title, fontsize=20)\n",
    "    plt.xlabel('Threshold', fontsize=15)\n",
    "    plt.ylabel('Performance', fontsize=15)\n",
    "    plt.show()\n",
    "    \n",
    "    for metric in results.keys():\n",
    "        values = np.array(list(results[metric].values()))\n",
    "        print(f'Best {metric} = {np.round(np.max(values), 2)}; Best Thresh = {np.argmax(values)}')"
   ]
  },
  {
   "cell_type": "code",
   "execution_count": 17,
   "metadata": {},
   "outputs": [
    {
     "data": {
      "image/png": "[encoded data removed]",
      "text/plain": [
       "<Figure size 576x432 with 1 Axes>"
      ]
     },
     "metadata": {
      "needs_background": "light"
     },
     "output_type": "display_data"
    },
    {
     "name": "stdout",
     "output_type": "stream",
     "text": [
      "Best accuracy_score = 0.92; Best Thresh = 48\n",
      "Best recall_score = 1.0; Best Thresh = 96\n",
      "Best precision_score = 1.0; Best Thresh = 3\n",
      "Best f1_score = 0.92; Best Thresh = 48\n"
     ]
    }
   ],
   "source": [
    "plot_thresholds(svm, 'SVM Model')"
   ]
  },
  {
   "cell_type": "code",
   "execution_count": 18,
   "metadata": {},
   "outputs": [
    {
     "data": {
      "image/png": "[encoded data removed]",
      "text/plain": [
       "<Figure size 576x432 with 1 Axes>"
      ]
     },
     "metadata": {
      "needs_background": "light"
     },
     "output_type": "display_data"
    },
    {
     "name": "stdout",
     "output_type": "stream",
     "text": [
      "Best accuracy_score = 0.89; Best Thresh = 35\n",
      "Best recall_score = 1.0; Best Thresh = 93\n",
      "Best precision_score = 1.0; Best Thresh = 0\n",
      "Best f1_score = 0.89; Best Thresh = 52\n"
     ]
    }
   ],
   "source": [
    "plot_thresholds(knn, 'KNN Model')"
   ]
  },
  {
   "cell_type": "markdown",
   "metadata": {},
   "source": [
    "# Conclusion:"
   ]
  },
  {
   "cell_type": "markdown",
   "metadata": {},
   "source": [
    "In this simple example, we fastly made a Support Vector Machine model (SVC) that achieves 0.92 F1 Score making use of functions that automate our testings."
   ]
  }
 ],
 "metadata": {
  "colab": {
   "collapsed_sections": [],
   "name": "To predict heart disease.ipynb",
   "provenance": []
  },
  "kernelspec": {
   "display_name": "Python 3 (ipykernel)",
   "language": "python",
   "name": "python3"
  },
  "language_info": {
   "codemirror_mode": {
    "name": "ipython",
    "version": 3
   },
   "file_extension": ".py",
   "mimetype": "text/x-python",
   "name": "python",
   "nbconvert_exporter": "python",
   "pygments_lexer": "ipython3",
   "version": "3.10.2"
  }
 },
 "nbformat": 4,
 "nbformat_minor": 1
}
